{
  "nbformat": 4,
  "nbformat_minor": 0,
  "metadata": {
    "colab": {
      "provenance": []
    },
    "kernelspec": {
      "name": "python3",
      "display_name": "Python 3"
    },
    "language_info": {
      "name": "python"
    }
  },
  "cells": [
    {
      "cell_type": "markdown",
      "source": [
        "Problem 1 - Sorting:\n",
        "\n",
        "1. Create a DataFrame called fare that contains only the Fare column of the Titanic dataset. Print the\n",
        "head of the result.\n",
        "2. Create a DataFrame called class age that contains only the Pclass and Age columns of the Titanic\n",
        "dataset, in that order. Print the head of the result.\n",
        "3. Create a DataFrame called survived gender that contains the Survived and Sex columns of the\n",
        "Titanic dataset, in that order.Print the head of the result."
      ],
      "metadata": {
        "id": "1A9y4sHGFfgW"
      }
    },
    {
      "cell_type": "code",
      "source": [
        "import pandas as pd\n",
        "\n",
        "\n",
        "titanic = pd.read_csv('/content/drive/MyDrive/Week 2 AI Datasets /Titanic-Dataset.csv')\n",
        "\n",
        "# Problem 1 - Sorting\n",
        "# 1. Create a DataFrame 'fare' containing only the Fare column\n",
        "fare = titanic[['Fare']]\n",
        "print(\"Fare DataFrame:\")\n",
        "print(fare.head())\n"
      ],
      "metadata": {
        "colab": {
          "base_uri": "https://localhost:8080/"
        },
        "id": "enFRLHpmFwze",
        "outputId": "e62baca2-ca69-4535-b418-2e92ae2ec9cb"
      },
      "execution_count": 3,
      "outputs": [
        {
          "output_type": "stream",
          "name": "stdout",
          "text": [
            "Fare DataFrame:\n",
            "      Fare\n",
            "0   7.2500\n",
            "1  71.2833\n",
            "2   7.9250\n",
            "3  53.1000\n",
            "4   8.0500\n"
          ]
        }
      ]
    },
    {
      "cell_type": "code",
      "source": [
        "# 2. Create a DataFrame 'class_age' containing only the Pclass and Age columns\n",
        "class_age = titanic[['Pclass', 'Age']]\n",
        "print(\"\\nClass and Age DataFrame:\")\n",
        "print(class_age.head())\n"
      ],
      "metadata": {
        "colab": {
          "base_uri": "https://localhost:8080/"
        },
        "id": "2bf0tTzaG9lL",
        "outputId": "0c44dace-473e-49cc-b88e-7f0bfd45f130"
      },
      "execution_count": 4,
      "outputs": [
        {
          "output_type": "stream",
          "name": "stdout",
          "text": [
            "\n",
            "Class and Age DataFrame:\n",
            "   Pclass   Age\n",
            "0       3  22.0\n",
            "1       1  38.0\n",
            "2       3  26.0\n",
            "3       1  35.0\n",
            "4       3  35.0\n"
          ]
        }
      ]
    },
    {
      "cell_type": "code",
      "source": [
        "# 3. Create a DataFrame 'survived_gender' containing only the Survived and Sex columns\n",
        "survived_gender = titanic[['Survived', 'Sex']]\n",
        "print(\"\\nSurvived and Gender DataFrame:\")\n",
        "print(survived_gender.head())"
      ],
      "metadata": {
        "colab": {
          "base_uri": "https://localhost:8080/"
        },
        "id": "EzjD_8tNHI4N",
        "outputId": "633bfbc4-77d5-4350-9066-24a22a562a29"
      },
      "execution_count": 5,
      "outputs": [
        {
          "output_type": "stream",
          "name": "stdout",
          "text": [
            "\n",
            "Survived and Gender DataFrame:\n",
            "   Survived     Sex\n",
            "0         0    male\n",
            "1         1  female\n",
            "2         1  female\n",
            "3         1  female\n",
            "4         0    male\n"
          ]
        }
      ]
    },
    {
      "cell_type": "markdown",
      "source": [
        "Problem - 2 - Subsetting:\n",
        "\n",
        "Complete all the following Task:\n",
        "\n",
        "Subsetting Rows:\n",
        "1. Filter the Titanic dataset for cases where the passenger’s fare is greater than 100, assigning it\n",
        "to fare gt 100.View the printed result.\n",
        "2. Filter the Titanic dataset for cases where the passenger’s class (Pclass) is 1, assigning it to\n",
        "first class.View the printed result.\n",
        "3. Filter the Titanic dataset for cases where the passenger’s age is less than 18 and the passenger\n",
        "is female (Sex is \"female\"), assigning it to female under 18. View the printed result."
      ],
      "metadata": {
        "id": "K0fqQ65PHrI5"
      }
    },
    {
      "cell_type": "code",
      "source": [
        "# Problem 2 - Subsetting Rows\n",
        "# 1. Filter for cases where the fare is greater than 100\n",
        "fare_gt_100 = titanic[titanic['Fare'] > 100]\n",
        "print(\"Passengers with Fare > 100:\")\n",
        "print(fare_gt_100)\n"
      ],
      "metadata": {
        "colab": {
          "base_uri": "https://localhost:8080/"
        },
        "id": "BOdHRCFzHyPR",
        "outputId": "a7280ab3-215a-4ec5-e1e4-297bb73a064e"
      },
      "execution_count": 9,
      "outputs": [
        {
          "output_type": "stream",
          "name": "stdout",
          "text": [
            "Passengers with Fare > 100:\n",
            "     PassengerId  Survived  Pclass  \\\n",
            "27            28         0       1   \n",
            "31            32         1       1   \n",
            "88            89         1       1   \n",
            "118          119         0       1   \n",
            "195          196         1       1   \n",
            "215          216         1       1   \n",
            "258          259         1       1   \n",
            "268          269         1       1   \n",
            "269          270         1       1   \n",
            "297          298         0       1   \n",
            "299          300         1       1   \n",
            "305          306         1       1   \n",
            "306          307         1       1   \n",
            "307          308         1       1   \n",
            "311          312         1       1   \n",
            "318          319         1       1   \n",
            "319          320         1       1   \n",
            "325          326         1       1   \n",
            "332          333         0       1   \n",
            "334          335         1       1   \n",
            "337          338         1       1   \n",
            "341          342         1       1   \n",
            "373          374         0       1   \n",
            "377          378         0       1   \n",
            "380          381         1       1   \n",
            "390          391         1       1   \n",
            "393          394         1       1   \n",
            "435          436         1       1   \n",
            "438          439         0       1   \n",
            "498          499         0       1   \n",
            "505          506         0       1   \n",
            "527          528         0       1   \n",
            "537          538         1       1   \n",
            "544          545         0       1   \n",
            "550          551         1       1   \n",
            "557          558         0       1   \n",
            "581          582         1       1   \n",
            "609          610         1       1   \n",
            "659          660         0       1   \n",
            "660          661         1       1   \n",
            "679          680         1       1   \n",
            "689          690         1       1   \n",
            "698          699         0       1   \n",
            "700          701         1       1   \n",
            "708          709         1       1   \n",
            "716          717         1       1   \n",
            "730          731         1       1   \n",
            "737          738         1       1   \n",
            "742          743         1       1   \n",
            "763          764         1       1   \n",
            "779          780         1       1   \n",
            "802          803         1       1   \n",
            "856          857         1       1   \n",
            "\n",
            "                                                  Name     Sex    Age  SibSp  \\\n",
            "27                      Fortune, Mr. Charles Alexander    male  19.00      3   \n",
            "31      Spencer, Mrs. William Augustus (Marie Eugenie)  female    NaN      1   \n",
            "88                          Fortune, Miss. Mabel Helen  female  23.00      3   \n",
            "118                           Baxter, Mr. Quigg Edmond    male  24.00      0   \n",
            "195                               Lurette, Miss. Elise  female  58.00      0   \n",
            "215                            Newell, Miss. Madeleine  female  31.00      1   \n",
            "258                                   Ward, Miss. Anna  female  35.00      0   \n",
            "268      Graham, Mrs. William Thompson (Edith Junkins)  female  58.00      0   \n",
            "269                             Bissette, Miss. Amelia  female  35.00      0   \n",
            "297                       Allison, Miss. Helen Loraine  female   2.00      1   \n",
            "299    Baxter, Mrs. James (Helene DeLaudeniere Chaput)  female  50.00      0   \n",
            "305                     Allison, Master. Hudson Trevor    male   0.92      1   \n",
            "306                            Fleming, Miss. Margaret  female    NaN      0   \n",
            "307  Penasco y Castellana, Mrs. Victor de Satode (M...  female  17.00      1   \n",
            "311                         Ryerson, Miss. Emily Borie  female  18.00      2   \n",
            "318                           Wick, Miss. Mary Natalie  female  31.00      0   \n",
            "319  Spedden, Mrs. Frederic Oakley (Margaretta Corn...  female  40.00      1   \n",
            "325                           Young, Miss. Marie Grice  female  36.00      0   \n",
            "332                          Graham, Mr. George Edward    male  38.00      0   \n",
            "334  Frauenthal, Mrs. Henry William (Clara Heinshei...  female    NaN      1   \n",
            "337                    Burns, Miss. Elizabeth Margaret  female  41.00      0   \n",
            "341                     Fortune, Miss. Alice Elizabeth  female  24.00      3   \n",
            "373                                Ringhini, Mr. Sante    male  22.00      0   \n",
            "377                          Widener, Mr. Harry Elkins    male  27.00      0   \n",
            "380                              Bidois, Miss. Rosalie  female  42.00      0   \n",
            "390                         Carter, Mr. William Ernest    male  36.00      1   \n",
            "393                             Newell, Miss. Marjorie  female  23.00      1   \n",
            "435                          Carter, Miss. Lucile Polk  female  14.00      1   \n",
            "438                                  Fortune, Mr. Mark    male  64.00      1   \n",
            "498    Allison, Mrs. Hudson J C (Bessie Waldo Daniels)  female  25.00      1   \n",
            "505         Penasco y Castellana, Mr. Victor de Satode    male  18.00      1   \n",
            "527                                 Farthing, Mr. John    male    NaN      0   \n",
            "537                                LeRoy, Miss. Bertha  female  30.00      0   \n",
            "544                         Douglas, Mr. Walter Donald    male  50.00      1   \n",
            "550                        Thayer, Mr. John Borland Jr    male  17.00      0   \n",
            "557                                Robbins, Mr. Victor    male    NaN      0   \n",
            "581  Thayer, Mrs. John Borland (Marian Longstreth M...  female  39.00      1   \n",
            "609                          Shutes, Miss. Elizabeth W  female  40.00      0   \n",
            "659                         Newell, Mr. Arthur Webster    male  58.00      0   \n",
            "660                      Frauenthal, Dr. Henry William    male  50.00      2   \n",
            "679                 Cardeza, Mr. Thomas Drake Martinez    male  36.00      0   \n",
            "689                  Madill, Miss. Georgette Alexandra  female  15.00      0   \n",
            "698                           Thayer, Mr. John Borland    male  49.00      1   \n",
            "700  Astor, Mrs. John Jacob (Madeleine Talmadge Force)  female  18.00      1   \n",
            "708                               Cleaver, Miss. Alice  female  22.00      0   \n",
            "716                      Endres, Miss. Caroline Louise  female  38.00      0   \n",
            "730                      Allen, Miss. Elisabeth Walton  female  29.00      0   \n",
            "737                             Lesurer, Mr. Gustave J    male  35.00      0   \n",
            "742              Ryerson, Miss. Susan Parker \"Suzette\"  female  21.00      2   \n",
            "763          Carter, Mrs. William Ernest (Lucile Polk)  female  36.00      1   \n",
            "779  Robert, Mrs. Edward Scott (Elisabeth Walton Mc...  female  43.00      0   \n",
            "802                Carter, Master. William Thornton II    male  11.00      1   \n",
            "856         Wick, Mrs. George Dennick (Mary Hitchcock)  female  45.00      1   \n",
            "\n",
            "     Parch    Ticket      Fare            Cabin Embarked  \n",
            "27       2     19950  263.0000      C23 C25 C27        S  \n",
            "31       0  PC 17569  146.5208              B78        C  \n",
            "88       2     19950  263.0000      C23 C25 C27        S  \n",
            "118      1  PC 17558  247.5208          B58 B60        C  \n",
            "195      0  PC 17569  146.5208              B80        C  \n",
            "215      0     35273  113.2750              D36        C  \n",
            "258      0  PC 17755  512.3292              NaN        C  \n",
            "268      1  PC 17582  153.4625             C125        S  \n",
            "269      0  PC 17760  135.6333              C99        S  \n",
            "297      2    113781  151.5500          C22 C26        S  \n",
            "299      1  PC 17558  247.5208          B58 B60        C  \n",
            "305      2    113781  151.5500          C22 C26        S  \n",
            "306      0     17421  110.8833              NaN        C  \n",
            "307      0  PC 17758  108.9000              C65        C  \n",
            "311      2  PC 17608  262.3750  B57 B59 B63 B66        C  \n",
            "318      2     36928  164.8667               C7        S  \n",
            "319      1     16966  134.5000              E34        C  \n",
            "325      0  PC 17760  135.6333              C32        C  \n",
            "332      1  PC 17582  153.4625              C91        S  \n",
            "334      0  PC 17611  133.6500              NaN        S  \n",
            "337      0     16966  134.5000              E40        C  \n",
            "341      2     19950  263.0000      C23 C25 C27        S  \n",
            "373      0  PC 17760  135.6333              NaN        C  \n",
            "377      2    113503  211.5000              C82        C  \n",
            "380      0  PC 17757  227.5250              NaN        C  \n",
            "390      2    113760  120.0000          B96 B98        S  \n",
            "393      0     35273  113.2750              D36        C  \n",
            "435      2    113760  120.0000          B96 B98        S  \n",
            "438      4     19950  263.0000      C23 C25 C27        S  \n",
            "498      2    113781  151.5500          C22 C26        S  \n",
            "505      0  PC 17758  108.9000              C65        C  \n",
            "527      0  PC 17483  221.7792              C95        S  \n",
            "537      0  PC 17761  106.4250              NaN        C  \n",
            "544      0  PC 17761  106.4250              C86        C  \n",
            "550      2     17421  110.8833              C70        C  \n",
            "557      0  PC 17757  227.5250              NaN        C  \n",
            "581      1     17421  110.8833              C68        C  \n",
            "609      0  PC 17582  153.4625             C125        S  \n",
            "659      2     35273  113.2750              D48        C  \n",
            "660      0  PC 17611  133.6500              NaN        S  \n",
            "679      1  PC 17755  512.3292      B51 B53 B55        C  \n",
            "689      1     24160  211.3375               B5        S  \n",
            "698      1     17421  110.8833              C68        C  \n",
            "700      0  PC 17757  227.5250          C62 C64        C  \n",
            "708      0    113781  151.5500              NaN        S  \n",
            "716      0  PC 17757  227.5250              C45        C  \n",
            "730      0     24160  211.3375               B5        S  \n",
            "737      0  PC 17755  512.3292             B101        C  \n",
            "742      2  PC 17608  262.3750  B57 B59 B63 B66        C  \n",
            "763      2    113760  120.0000          B96 B98        S  \n",
            "779      1     24160  211.3375               B3        S  \n",
            "802      2    113760  120.0000          B96 B98        S  \n",
            "856      1     36928  164.8667              NaN        S  \n"
          ]
        }
      ]
    },
    {
      "cell_type": "code",
      "source": [
        "# 2. Filter for cases where the passenger's class (Pclass) is 1\n",
        "first_class = titanic[titanic['Pclass'] == 1]\n",
        "print(\"\\nPassengers in First Class (Pclass = 1):\")\n",
        "print(first_class)"
      ],
      "metadata": {
        "colab": {
          "base_uri": "https://localhost:8080/"
        },
        "id": "Frt70kwXJBXP",
        "outputId": "d9a373f9-523c-4217-d82a-ea861c85445d"
      },
      "execution_count": 10,
      "outputs": [
        {
          "output_type": "stream",
          "name": "stdout",
          "text": [
            "\n",
            "Passengers in First Class (Pclass = 1):\n",
            "     PassengerId  Survived  Pclass  \\\n",
            "1              2         1       1   \n",
            "3              4         1       1   \n",
            "6              7         0       1   \n",
            "11            12         1       1   \n",
            "23            24         1       1   \n",
            "..           ...       ...     ...   \n",
            "871          872         1       1   \n",
            "872          873         0       1   \n",
            "879          880         1       1   \n",
            "887          888         1       1   \n",
            "889          890         1       1   \n",
            "\n",
            "                                                  Name     Sex   Age  SibSp  \\\n",
            "1    Cumings, Mrs. John Bradley (Florence Briggs Th...  female  38.0      1   \n",
            "3         Futrelle, Mrs. Jacques Heath (Lily May Peel)  female  35.0      1   \n",
            "6                              McCarthy, Mr. Timothy J    male  54.0      0   \n",
            "11                            Bonnell, Miss. Elizabeth  female  58.0      0   \n",
            "23                        Sloper, Mr. William Thompson    male  28.0      0   \n",
            "..                                                 ...     ...   ...    ...   \n",
            "871   Beckwith, Mrs. Richard Leonard (Sallie Monypeny)  female  47.0      1   \n",
            "872                           Carlsson, Mr. Frans Olof    male  33.0      0   \n",
            "879      Potter, Mrs. Thomas Jr (Lily Alexenia Wilson)  female  56.0      0   \n",
            "887                       Graham, Miss. Margaret Edith  female  19.0      0   \n",
            "889                              Behr, Mr. Karl Howell    male  26.0      0   \n",
            "\n",
            "     Parch    Ticket     Fare        Cabin Embarked  \n",
            "1        0  PC 17599  71.2833          C85        C  \n",
            "3        0    113803  53.1000         C123        S  \n",
            "6        0     17463  51.8625          E46        S  \n",
            "11       0    113783  26.5500         C103        S  \n",
            "23       0    113788  35.5000           A6        S  \n",
            "..     ...       ...      ...          ...      ...  \n",
            "871      1     11751  52.5542          D35        S  \n",
            "872      0       695   5.0000  B51 B53 B55        S  \n",
            "879      1     11767  83.1583          C50        C  \n",
            "887      0    112053  30.0000          B42        S  \n",
            "889      0    111369  30.0000         C148        C  \n",
            "\n",
            "[216 rows x 12 columns]\n"
          ]
        }
      ]
    },
    {
      "cell_type": "code",
      "source": [
        "# 3. Filter for cases where the passenger is female and under 18\n",
        "female_under_18 = titanic[(titanic['Age'] < 18) & (titanic['Sex'] == 'female')]\n",
        "print(\"\\nFemale Passengers Under 18:\")\n",
        "print(female_under_18)"
      ],
      "metadata": {
        "colab": {
          "base_uri": "https://localhost:8080/"
        },
        "id": "fAjuW77FJHz7",
        "outputId": "46cbecf1-ce12-49f1-be6a-4da70cb0dda0"
      },
      "execution_count": 11,
      "outputs": [
        {
          "output_type": "stream",
          "name": "stdout",
          "text": [
            "\n",
            "Female Passengers Under 18:\n",
            "     PassengerId  Survived  Pclass  \\\n",
            "9             10         1       2   \n",
            "10            11         1       3   \n",
            "14            15         0       3   \n",
            "22            23         1       3   \n",
            "24            25         0       3   \n",
            "39            40         1       3   \n",
            "43            44         1       2   \n",
            "58            59         1       2   \n",
            "68            69         1       3   \n",
            "71            72         0       3   \n",
            "84            85         1       2   \n",
            "111          112         0       3   \n",
            "114          115         0       3   \n",
            "119          120         0       3   \n",
            "147          148         0       3   \n",
            "156          157         1       3   \n",
            "172          173         1       3   \n",
            "184          185         1       3   \n",
            "205          206         0       3   \n",
            "208          209         1       3   \n",
            "233          234         1       3   \n",
            "237          238         1       2   \n",
            "297          298         0       1   \n",
            "307          308         1       1   \n",
            "329          330         1       1   \n",
            "374          375         0       3   \n",
            "381          382         1       3   \n",
            "389          390         1       2   \n",
            "419          420         0       3   \n",
            "435          436         1       1   \n",
            "446          447         1       2   \n",
            "448          449         1       3   \n",
            "469          470         1       3   \n",
            "479          480         1       3   \n",
            "504          505         1       1   \n",
            "530          531         1       2   \n",
            "535          536         1       2   \n",
            "541          542         0       3   \n",
            "542          543         0       3   \n",
            "618          619         1       2   \n",
            "634          635         0       3   \n",
            "642          643         0       3   \n",
            "644          645         1       3   \n",
            "689          690         1       1   \n",
            "691          692         1       3   \n",
            "720          721         1       2   \n",
            "750          751         1       2   \n",
            "777          778         1       3   \n",
            "780          781         1       3   \n",
            "781          782         1       1   \n",
            "813          814         0       3   \n",
            "830          831         1       3   \n",
            "852          853         0       3   \n",
            "853          854         1       1   \n",
            "875          876         1       3   \n",
            "\n",
            "                                                  Name     Sex    Age  SibSp  \\\n",
            "9                  Nasser, Mrs. Nicholas (Adele Achem)  female  14.00      1   \n",
            "10                     Sandstrom, Miss. Marguerite Rut  female   4.00      1   \n",
            "14                Vestrom, Miss. Hulda Amanda Adolfina  female  14.00      0   \n",
            "22                         McGowan, Miss. Anna \"Annie\"  female  15.00      0   \n",
            "24                       Palsson, Miss. Torborg Danira  female   8.00      3   \n",
            "39                         Nicola-Yarred, Miss. Jamila  female  14.00      1   \n",
            "43            Laroche, Miss. Simonne Marie Anne Andree  female   3.00      1   \n",
            "58                        West, Miss. Constance Mirium  female   5.00      1   \n",
            "68                     Andersson, Miss. Erna Alexandra  female  17.00      4   \n",
            "71                          Goodwin, Miss. Lillian Amy  female  16.00      5   \n",
            "84                                 Ilett, Miss. Bertha  female  17.00      0   \n",
            "111                               Zabour, Miss. Hileni  female  14.50      1   \n",
            "114                              Attalah, Miss. Malake  female  17.00      0   \n",
            "119                  Andersson, Miss. Ellis Anna Maria  female   2.00      4   \n",
            "147                   Ford, Miss. Robina Maggie \"Ruby\"  female   9.00      2   \n",
            "156                   Gilnagh, Miss. Katherine \"Katie\"  female  16.00      0   \n",
            "172                       Johnson, Miss. Eleanor Ileen  female   1.00      1   \n",
            "184                Kink-Heilmann, Miss. Luise Gretchen  female   4.00      0   \n",
            "205                         Strom, Miss. Telma Matilda  female   2.00      0   \n",
            "208                          Carr, Miss. Helen \"Ellen\"  female  16.00      0   \n",
            "233                     Asplund, Miss. Lillian Gertrud  female   5.00      4   \n",
            "237                   Collyer, Miss. Marjorie \"Lottie\"  female   8.00      0   \n",
            "297                       Allison, Miss. Helen Loraine  female   2.00      1   \n",
            "307  Penasco y Castellana, Mrs. Victor de Satode (M...  female  17.00      1   \n",
            "329                       Hippach, Miss. Jean Gertrude  female  16.00      0   \n",
            "374                         Palsson, Miss. Stina Viola  female   3.00      3   \n",
            "381                        Nakid, Miss. Maria (\"Mary\")  female   1.00      0   \n",
            "389                              Lehmann, Miss. Bertha  female  17.00      0   \n",
            "419                          Van Impe, Miss. Catharina  female  10.00      0   \n",
            "435                          Carter, Miss. Lucile Polk  female  14.00      1   \n",
            "446                  Mellinger, Miss. Madeleine Violet  female  13.00      0   \n",
            "448                     Baclini, Miss. Marie Catherine  female   5.00      2   \n",
            "469                      Baclini, Miss. Helene Barbara  female   0.75      2   \n",
            "479                           Hirvonen, Miss. Hildur E  female   2.00      0   \n",
            "504                              Maioni, Miss. Roberta  female  16.00      0   \n",
            "530                           Quick, Miss. Phyllis May  female   2.00      1   \n",
            "535                             Hart, Miss. Eva Miriam  female   7.00      0   \n",
            "541               Andersson, Miss. Ingeborg Constanzia  female   9.00      4   \n",
            "542                  Andersson, Miss. Sigrid Elisabeth  female  11.00      4   \n",
            "618                        Becker, Miss. Marion Louise  female   4.00      2   \n",
            "634                                 Skoog, Miss. Mabel  female   9.00      3   \n",
            "642                      Skoog, Miss. Margit Elizabeth  female   2.00      3   \n",
            "644                             Baclini, Miss. Eugenie  female   0.75      2   \n",
            "689                  Madill, Miss. Georgette Alexandra  female  15.00      0   \n",
            "691                                 Karun, Miss. Manca  female   4.00      0   \n",
            "720                  Harper, Miss. Annie Jessie \"Nina\"  female   6.00      0   \n",
            "750                                  Wells, Miss. Joan  female   4.00      1   \n",
            "777                      Emanuel, Miss. Virginia Ethel  female   5.00      0   \n",
            "780                               Ayoub, Miss. Banoura  female  13.00      0   \n",
            "781          Dick, Mrs. Albert Adrian (Vera Gillespie)  female  17.00      1   \n",
            "813                 Andersson, Miss. Ebba Iris Alfrida  female   6.00      4   \n",
            "830            Yasbeck, Mrs. Antoni (Selini Alexander)  female  15.00      1   \n",
            "852                            Boulos, Miss. Nourelain  female   9.00      1   \n",
            "853                          Lines, Miss. Mary Conover  female  16.00      0   \n",
            "875                   Najib, Miss. Adele Kiamie \"Jane\"  female  15.00      0   \n",
            "\n",
            "     Parch         Ticket      Fare    Cabin Embarked  \n",
            "9        0         237736   30.0708      NaN        C  \n",
            "10       1        PP 9549   16.7000       G6        S  \n",
            "14       0         350406    7.8542      NaN        S  \n",
            "22       0         330923    8.0292      NaN        Q  \n",
            "24       1         349909   21.0750      NaN        S  \n",
            "39       0           2651   11.2417      NaN        C  \n",
            "43       2  SC/Paris 2123   41.5792      NaN        C  \n",
            "58       2     C.A. 34651   27.7500      NaN        S  \n",
            "68       2        3101281    7.9250      NaN        S  \n",
            "71       2        CA 2144   46.9000      NaN        S  \n",
            "84       0     SO/C 14885   10.5000      NaN        S  \n",
            "111      0           2665   14.4542      NaN        C  \n",
            "114      0           2627   14.4583      NaN        C  \n",
            "119      2         347082   31.2750      NaN        S  \n",
            "147      2     W./C. 6608   34.3750      NaN        S  \n",
            "156      0          35851    7.7333      NaN        Q  \n",
            "172      1         347742   11.1333      NaN        S  \n",
            "184      2         315153   22.0250      NaN        S  \n",
            "205      1         347054   10.4625       G6        S  \n",
            "208      0         367231    7.7500      NaN        Q  \n",
            "233      2         347077   31.3875      NaN        S  \n",
            "237      2     C.A. 31921   26.2500      NaN        S  \n",
            "297      2         113781  151.5500  C22 C26        S  \n",
            "307      0       PC 17758  108.9000      C65        C  \n",
            "329      1         111361   57.9792      B18        C  \n",
            "374      1         349909   21.0750      NaN        S  \n",
            "381      2           2653   15.7417      NaN        C  \n",
            "389      0        SC 1748   12.0000      NaN        C  \n",
            "419      2         345773   24.1500      NaN        S  \n",
            "435      2         113760  120.0000  B96 B98        S  \n",
            "446      1         250644   19.5000      NaN        S  \n",
            "448      1           2666   19.2583      NaN        C  \n",
            "469      1           2666   19.2583      NaN        C  \n",
            "479      1        3101298   12.2875      NaN        S  \n",
            "504      0         110152   86.5000      B79        S  \n",
            "530      1          26360   26.0000      NaN        S  \n",
            "535      2   F.C.C. 13529   26.2500      NaN        S  \n",
            "541      2         347082   31.2750      NaN        S  \n",
            "542      2         347082   31.2750      NaN        S  \n",
            "618      1         230136   39.0000       F4        S  \n",
            "634      2         347088   27.9000      NaN        S  \n",
            "642      2         347088   27.9000      NaN        S  \n",
            "644      1           2666   19.2583      NaN        C  \n",
            "689      1          24160  211.3375       B5        S  \n",
            "691      1         349256   13.4167      NaN        C  \n",
            "720      1         248727   33.0000      NaN        S  \n",
            "750      1          29103   23.0000      NaN        S  \n",
            "777      0         364516   12.4750      NaN        S  \n",
            "780      0           2687    7.2292      NaN        C  \n",
            "781      0          17474   57.0000      B20        S  \n",
            "813      2         347082   31.2750      NaN        S  \n",
            "830      0           2659   14.4542      NaN        C  \n",
            "852      1           2678   15.2458      NaN        C  \n",
            "853      1       PC 17592   39.4000      D28        S  \n",
            "875      0           2667    7.2250      NaN        C  \n"
          ]
        }
      ]
    },
    {
      "cell_type": "markdown",
      "source": [
        "Subsetting Rows by Categorical variables:\n",
        "1. Filter the Titanic dataset for passengers whose Embarked port is either \"C\" (Cherbourg) or \"S\"\n",
        "(Southampton), assigning the result to embarked c or s. View the printed result.\n",
        "2. Filter the Titanic dataset for passengers whose Pclass is in the list [1, 2] (indicating first\n",
        "or second class), assigning the result to first second class.View the printed result."
      ],
      "metadata": {
        "id": "jefDuhgpJTiO"
      }
    },
    {
      "cell_type": "code",
      "source": [
        "# 1. Filter for passengers whose Embarked port is either \"C\" or \"S\"\n",
        "embarked_c_or_s = titanic[titanic['Embarked'].isin(['C', 'S'])]\n",
        "print(\"Passengers who embarked at Cherbourg (C) or Southampton (S):\")\n",
        "print(embarked_c_or_s)"
      ],
      "metadata": {
        "colab": {
          "base_uri": "https://localhost:8080/"
        },
        "id": "u4YUarTgJVRf",
        "outputId": "1af781eb-b874-4e72-fa76-511f247dff77"
      },
      "execution_count": 12,
      "outputs": [
        {
          "output_type": "stream",
          "name": "stdout",
          "text": [
            "Passengers who embarked at Cherbourg (C) or Southampton (S):\n",
            "     PassengerId  Survived  Pclass  \\\n",
            "0              1         0       3   \n",
            "1              2         1       1   \n",
            "2              3         1       3   \n",
            "3              4         1       1   \n",
            "4              5         0       3   \n",
            "..           ...       ...     ...   \n",
            "884          885         0       3   \n",
            "886          887         0       2   \n",
            "887          888         1       1   \n",
            "888          889         0       3   \n",
            "889          890         1       1   \n",
            "\n",
            "                                                  Name     Sex   Age  SibSp  \\\n",
            "0                              Braund, Mr. Owen Harris    male  22.0      1   \n",
            "1    Cumings, Mrs. John Bradley (Florence Briggs Th...  female  38.0      1   \n",
            "2                               Heikkinen, Miss. Laina  female  26.0      0   \n",
            "3         Futrelle, Mrs. Jacques Heath (Lily May Peel)  female  35.0      1   \n",
            "4                             Allen, Mr. William Henry    male  35.0      0   \n",
            "..                                                 ...     ...   ...    ...   \n",
            "884                             Sutehall, Mr. Henry Jr    male  25.0      0   \n",
            "886                              Montvila, Rev. Juozas    male  27.0      0   \n",
            "887                       Graham, Miss. Margaret Edith  female  19.0      0   \n",
            "888           Johnston, Miss. Catherine Helen \"Carrie\"  female   NaN      1   \n",
            "889                              Behr, Mr. Karl Howell    male  26.0      0   \n",
            "\n",
            "     Parch            Ticket     Fare Cabin Embarked  \n",
            "0        0         A/5 21171   7.2500   NaN        S  \n",
            "1        0          PC 17599  71.2833   C85        C  \n",
            "2        0  STON/O2. 3101282   7.9250   NaN        S  \n",
            "3        0            113803  53.1000  C123        S  \n",
            "4        0            373450   8.0500   NaN        S  \n",
            "..     ...               ...      ...   ...      ...  \n",
            "884      0   SOTON/OQ 392076   7.0500   NaN        S  \n",
            "886      0            211536  13.0000   NaN        S  \n",
            "887      0            112053  30.0000   B42        S  \n",
            "888      2        W./C. 6607  23.4500   NaN        S  \n",
            "889      0            111369  30.0000  C148        C  \n",
            "\n",
            "[812 rows x 12 columns]\n"
          ]
        }
      ]
    },
    {
      "cell_type": "code",
      "source": [
        "# 2. Filter for passengers whose Pclass is in the list [1, 2]\n",
        "first_second_class = titanic[titanic['Pclass'].isin([1, 2])]\n",
        "print(\"\\nPassengers in First or Second Class (Pclass in [1, 2]):\")\n",
        "print(first_second_class)"
      ],
      "metadata": {
        "colab": {
          "base_uri": "https://localhost:8080/"
        },
        "id": "jAbVMU15KrYE",
        "outputId": "60cdc6bf-5014-4b79-9fc0-8ea47237a2d9"
      },
      "execution_count": 13,
      "outputs": [
        {
          "output_type": "stream",
          "name": "stdout",
          "text": [
            "\n",
            "Passengers in First or Second Class (Pclass in [1, 2]):\n",
            "     PassengerId  Survived  Pclass  \\\n",
            "1              2         1       1   \n",
            "3              4         1       1   \n",
            "6              7         0       1   \n",
            "9             10         1       2   \n",
            "11            12         1       1   \n",
            "..           ...       ...     ...   \n",
            "880          881         1       2   \n",
            "883          884         0       2   \n",
            "886          887         0       2   \n",
            "887          888         1       1   \n",
            "889          890         1       1   \n",
            "\n",
            "                                                  Name     Sex   Age  SibSp  \\\n",
            "1    Cumings, Mrs. John Bradley (Florence Briggs Th...  female  38.0      1   \n",
            "3         Futrelle, Mrs. Jacques Heath (Lily May Peel)  female  35.0      1   \n",
            "6                              McCarthy, Mr. Timothy J    male  54.0      0   \n",
            "9                  Nasser, Mrs. Nicholas (Adele Achem)  female  14.0      1   \n",
            "11                            Bonnell, Miss. Elizabeth  female  58.0      0   \n",
            "..                                                 ...     ...   ...    ...   \n",
            "880       Shelley, Mrs. William (Imanita Parrish Hall)  female  25.0      0   \n",
            "883                      Banfield, Mr. Frederick James    male  28.0      0   \n",
            "886                              Montvila, Rev. Juozas    male  27.0      0   \n",
            "887                       Graham, Miss. Margaret Edith  female  19.0      0   \n",
            "889                              Behr, Mr. Karl Howell    male  26.0      0   \n",
            "\n",
            "     Parch            Ticket     Fare Cabin Embarked  \n",
            "1        0          PC 17599  71.2833   C85        C  \n",
            "3        0            113803  53.1000  C123        S  \n",
            "6        0             17463  51.8625   E46        S  \n",
            "9        0            237736  30.0708   NaN        C  \n",
            "11       0            113783  26.5500  C103        S  \n",
            "..     ...               ...      ...   ...      ...  \n",
            "880      1            230433  26.0000   NaN        S  \n",
            "883      0  C.A./SOTON 34068  10.5000   NaN        S  \n",
            "886      0            211536  13.0000   NaN        S  \n",
            "887      0            112053  30.0000   B42        S  \n",
            "889      0            111369  30.0000  C148        C  \n",
            "\n",
            "[400 rows x 12 columns]\n"
          ]
        }
      ]
    },
    {
      "cell_type": "markdown",
      "source": [
        "Which passenger had the highest fare paid relative to their age?\n",
        "To answer the question perform following operations:\n",
        "\n",
        "1. Add a column to the Titanic dataset, fare per year, containing the fare divided by the age of\n",
        "the passenger(i.e., Fare/Age).\n",
        "2. Subset rows where fare per year is higher than 5, assigning this to high fare age.\n",
        "3. Sort high fare age by descending fare per year, assigning this to high fare age srt.\n",
        "4. Select only the Name and fare per year columns of high fare age srt and save the result as result.\n",
        "5. Look at the result."
      ],
      "metadata": {
        "id": "KrhI2WD0K4CH"
      }
    },
    {
      "cell_type": "code",
      "source": [
        "# Step 1: Add a column to the Titanic dataset, fare_per_year (Fare divided by Age)\n",
        "titanic['fare_per_year'] = titanic['Fare'] / titanic['Age']"
      ],
      "metadata": {
        "id": "QO5lF7DtK76x"
      },
      "execution_count": 14,
      "outputs": []
    },
    {
      "cell_type": "code",
      "source": [
        "# Step 2: Subset rows where fare_per_year is higher than 5\n",
        "high_fare_age = titanic[titanic['fare_per_year'] > 5]\n"
      ],
      "metadata": {
        "id": "qIzKLaOQLZQ8"
      },
      "execution_count": 15,
      "outputs": []
    },
    {
      "cell_type": "code",
      "source": [
        "# Step 3: Sort high_fare_age by descending fare_per_year\n",
        "high_fare_age_srt = high_fare_age.sort_values(by='fare_per_year', ascending=False)"
      ],
      "metadata": {
        "id": "4VYuKrvPLkP_"
      },
      "execution_count": 16,
      "outputs": []
    },
    {
      "cell_type": "code",
      "source": [
        "# Step 4: Select only the Name and fare_per_year columns\n",
        "result = high_fare_age_srt[['Name', 'fare_per_year']]"
      ],
      "metadata": {
        "id": "i0uxcq_WLqac"
      },
      "execution_count": 17,
      "outputs": []
    },
    {
      "cell_type": "code",
      "source": [
        "# Step 5: Look at the result\n",
        "print(\"Passengers with highest fare per year:\")\n",
        "print(result)"
      ],
      "metadata": {
        "colab": {
          "base_uri": "https://localhost:8080/"
        },
        "id": "UbhdAa1hLuxW",
        "outputId": "1eafdb1f-4ce7-4fa1-eb3a-e2f315611a8b"
      },
      "execution_count": 18,
      "outputs": [
        {
          "output_type": "stream",
          "name": "stdout",
          "text": [
            "Passengers with highest fare per year:\n",
            "                                       Name  fare_per_year\n",
            "305          Allison, Master. Hudson Trevor     164.728261\n",
            "297            Allison, Miss. Helen Loraine      75.775000\n",
            "386         Goodwin, Master. Sidney Leonard      46.900000\n",
            "164            Panula, Master. Eino Viljami      39.687500\n",
            "183               Becker, Master. Richard F      39.000000\n",
            "..                                      ...            ...\n",
            "318                Wick, Miss. Mary Natalie       5.318281\n",
            "348  Coutts, Master. William Loch \"William\"       5.300000\n",
            "205              Strom, Miss. Telma Matilda       5.231250\n",
            "813      Andersson, Miss. Ebba Iris Alfrida       5.212500\n",
            "480          Goodwin, Master. Harold Victor       5.211111\n",
            "\n",
            "[68 rows x 2 columns]\n"
          ]
        }
      ]
    },
    {
      "cell_type": "markdown",
      "source": [
        "Which adult male passenger (age ≥ 18 and Sex is ’male’) paid the highest fare relative to their\n",
        "class?\n",
        "\n",
        "To answer the question perform following operations:\n",
        "1. Add a column to the Titanic dataset, fare per class, containing the fare divided by the passenger\n",
        "class i.e. Fare / Pclass.\n",
        "2. Subset rows where the passenger is male (Sex is ”male”) and an adult (Age is greater than or equal\n",
        "to 18), assigning this to adult males.\n",
        "3. Sort adult males by descending fare per class, assigning this to adult males srt.\n",
        "4. Select only the Name, Age, and fare per class columns of adult males sr and save the result\n",
        "as result.\n",
        "5. Look at the result."
      ],
      "metadata": {
        "id": "EjD4-SfcNCAV"
      }
    },
    {
      "cell_type": "code",
      "source": [
        "# Step 1: Add a column, fare_per_class (Fare divided by Pclass)\n",
        "titanic['fare_per_class'] = titanic['Fare'] / titanic['Pclass']\n",
        "\n",
        "# Step 2: Subset rows where the passenger is male (Sex is \"male\") and an adult (Age >= 18)\n",
        "adult_males = titanic[(titanic['Sex'] == 'male') & (titanic['Age'] >= 18)]\n",
        "\n",
        "# Step 3: Sort adult_males by descending fare_per_class\n",
        "adult_males_srt = adult_males.sort_values(by='fare_per_class', ascending=False)\n",
        "\n",
        "# Step 4: Select only the Name, Age, and fare_per_class columns\n",
        "result = adult_males_srt[['Name', 'Age', 'fare_per_class']]\n",
        "\n",
        "# Step 5: Look at the result\n",
        "print(\"Adult male passenger who paid the highest fare relative to class:\")\n",
        "print(result)"
      ],
      "metadata": {
        "colab": {
          "base_uri": "https://localhost:8080/"
        },
        "id": "vgtE_CKhNH1O",
        "outputId": "70a0089a-7a46-4b8c-9372-9371bc8e70ba"
      },
      "execution_count": 19,
      "outputs": [
        {
          "output_type": "stream",
          "name": "stdout",
          "text": [
            "Adult male passenger who paid the highest fare relative to class:\n",
            "                                   Name   Age  fare_per_class\n",
            "737              Lesurer, Mr. Gustave J  35.0        512.3292\n",
            "679  Cardeza, Mr. Thomas Drake Martinez  36.0        512.3292\n",
            "27       Fortune, Mr. Charles Alexander  19.0        263.0000\n",
            "438                   Fortune, Mr. Mark  64.0        263.0000\n",
            "118            Baxter, Mr. Quigg Edmond  24.0        247.5208\n",
            "..                                  ...   ...             ...\n",
            "271        Tornquist, Mr. William Henry  25.0          0.0000\n",
            "179                 Leonard, Mr. Lionel  36.0          0.0000\n",
            "302     Johnson, Mr. William Cahoone Jr  19.0          0.0000\n",
            "822     Reuchlin, Jonkheer. John George  38.0          0.0000\n",
            "806              Andrews, Mr. Thomas Jr  39.0          0.0000\n",
            "\n",
            "[395 rows x 3 columns]\n"
          ]
        }
      ]
    },
    {
      "cell_type": "markdown",
      "source": [
        "What percent of the total fare revenue came from each passenger class?\n",
        "\n",
        "To answer the question perform following operation:\n",
        "1. Calculate the total Fare paid across all passengers in the Titanic dataset.\n",
        "2. Subset for passengers in first class (Pclass is 1) and calculate their total fare.\n",
        "3. Do the same for second class (Pclass is 2) and third class (Pclass is 3).\n",
        "4. Combine the fare totals from first, second, and third classes into a list.\n",
        "5. Divide the totals for each class by the overall total fare to get the proportion of fare revenue by class."
      ],
      "metadata": {
        "id": "N8QF5TJbNsVD"
      }
    },
    {
      "cell_type": "code",
      "source": [
        "# Step 1: Calculate the total Fare paid across all passengers\n",
        "total_fare = titanic['Fare'].sum()\n",
        "\n",
        "# Step 2: Subset for passengers in first class (Pclass = 1) and calculate their total fare\n",
        "first_class_fare = titanic[titanic['Pclass'] == 1]['Fare'].sum()\n",
        "\n",
        "# Step 3: Subset for passengers in second class (Pclass = 2) and calculate their total fare\n",
        "second_class_fare = titanic[titanic['Pclass'] == 2]['Fare'].sum()\n",
        "\n",
        "# Step 4: Subset for passengers in third class (Pclass = 3) and calculate their total fare\n",
        "third_class_fare = titanic[titanic['Pclass'] == 3]['Fare'].sum()\n",
        "\n",
        "# Step 5: Combine the fare totals into a list\n",
        "fare_totals = [first_class_fare, second_class_fare, third_class_fare]\n",
        "\n",
        "# Step 6: Calculate the proportion of fare revenue by class\n",
        "proportions = [fare / total_fare for fare in fare_totals]\n",
        "\n",
        "# Print the results\n",
        "print(f\"Total Fare Revenue: {total_fare}\")\n",
        "print(f\"Proportion of Fare Revenue by Class:\")\n",
        "print(f\"  First Class: {proportions[0] * 100:.2f}%\")\n",
        "print(f\"  Second Class: {proportions[1] * 100:.2f}%\")\n",
        "print(f\"  Third Class: {proportions[2] * 100:.2f}%\")"
      ],
      "metadata": {
        "colab": {
          "base_uri": "https://localhost:8080/"
        },
        "id": "pbBDtLE3N4bN",
        "outputId": "3a87ce1f-06f6-4076-87d0-28b9a00d31d7"
      },
      "execution_count": 20,
      "outputs": [
        {
          "output_type": "stream",
          "name": "stdout",
          "text": [
            "Total Fare Revenue: 28693.9493\n",
            "Proportion of Fare Revenue by Class:\n",
            "  First Class: 63.35%\n",
            "  Second Class: 13.25%\n",
            "  Third Class: 23.40%\n"
          ]
        }
      ]
    },
    {
      "cell_type": "markdown",
      "source": [
        "What percent of the total number of passengers on the Titanic belonged to each age group\n",
        "(e.g., child, adult, senior)?\n",
        "\n",
        "To answer the question perform following operation:\n",
        "1. Create a new column, age group, that categorizes passengers into \"child\" (age < 18), \"adult\" (age\n",
        "18{64), and \"senior\" (age 65 and above).\n",
        "2. Calculate the total number of passengers on the Titanic.\n",
        "3. Count the number of passengers in each age group.\n",
        "4. Divide the count of each age group by the total number of passengers to get the proportion of passengers\n",
        "in each age group.\n",
        "5. Display the proportion as a percentage."
      ],
      "metadata": {
        "id": "-QHUj0K7OU-m"
      }
    },
    {
      "cell_type": "code",
      "source": [
        "# Step 1: Create a new column, age_group\n",
        "def categorize_age(age):\n",
        "    if age < 18:\n",
        "        return \"child\"\n",
        "    elif age < 65:\n",
        "        return \"adult\"\n",
        "    else:\n",
        "        return \"senior\"\n",
        "\n",
        "titanic['age_group'] = titanic['Age'].apply(categorize_age)\n",
        "\n",
        "# Step 2: Calculate the total number of passengers\n",
        "total_passengers = len(titanic)\n",
        "\n",
        "# Step 3: Count the number of passengers in each age group\n",
        "age_group_counts = titanic['age_group'].value_counts()\n",
        "\n",
        "# Step 4: Calculate the proportion of passengers in each age group\n",
        "age_group_proportions = (age_group_counts / total_passengers) * 100\n",
        "\n",
        "# Step 5: Display the proportions\n",
        "print(\"Proportion of Passengers by Age Group:\")\n",
        "print(age_group_proportions)"
      ],
      "metadata": {
        "colab": {
          "base_uri": "https://localhost:8080/"
        },
        "id": "KWhUb7NMOccL",
        "outputId": "bcc70ba2-7a41-4961-b7a6-130eabe0f362"
      },
      "execution_count": 21,
      "outputs": [
        {
          "output_type": "stream",
          "name": "stdout",
          "text": [
            "Proportion of Passengers by Age Group:\n",
            "age_group\n",
            "adult     66.217733\n",
            "senior    21.099888\n",
            "child     12.682379\n",
            "Name: count, dtype: float64\n"
          ]
        }
      ]
    }
  ]
}